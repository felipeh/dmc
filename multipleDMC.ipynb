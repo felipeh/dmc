{
 "metadata": {
  "name": "",
  "signature": "sha256:78d070f4728c225c2de0bc01fc5f48b71fb31e52077e2ed4518cbbf6bdf65e54"
 },
 "nbformat": 3,
 "nbformat_minor": 0,
 "worksheets": [
  {
   "cells": [
    {
     "cell_type": "markdown",
     "metadata": {},
     "source": [
      "Multiple DMC\n",
      "--\n"
     ]
    },
    {
     "cell_type": "code",
     "collapsed": false,
     "input": [
      "%matplotlib inline"
     ],
     "language": "python",
     "metadata": {},
     "outputs": [],
     "prompt_number": 26
    },
    {
     "cell_type": "code",
     "collapsed": false,
     "input": [
      "def updateWalkers(X, V, V1, w1, eps):\n",
      "    # x contains a list of points of each walker\n",
      "    # V evaluates the potential function\n",
      "    # V1 evaluates the perturbed potential\n",
      "    # w1 is a set of weights for the walker  population \n",
      "    # eps is the timestep\n",
      "    \n",
      "    # Once the simulation is converged, we will have that  \n",
      "    #    \\sum_{x\\in X} \\delta_x \n",
      "    # is a random function which, in expectation, is the ground state\n",
      "    # for -\\Delta + V, and \n",
      "    #    \\sum_{x\\in X} w[x] \\delta_x\n",
      "    # is, in expectation, the ground state for -\\Delta + V1\n",
      "    \n",
      "    import numpy as np\n",
      "    m = len(X)\n",
      "    \n",
      "    # first evolve operator e^{eps H} \n",
      "    # apply e^{-eps V / 2} weighting\n",
      "    w = np.exp(-eps * V(X) / 2)\n",
      "    w1 = w1 * np.exp(-eps * V1(X) / 2)\n",
      "    # apply e^{ eps Delta} and re-approximate by \n",
      "    # deltas (just do random walk)\n",
      "    X = X + np.sqrt(eps) * np.random.randn(m)\n",
      "    # apply e^{-eps V / 2} weight again\n",
      "    w = w * np.exp(-eps * V(X) / 2)\n",
      "    w1 = w1 * np.exp(-eps * V1(X) / 2)\n",
      "\n",
      "    val = np.mean(w)\n",
      "    val1 = np.mean(w1)\n",
      "\n",
      "    # normalize the weights\n",
      "    w = w / np.sum(w)\n",
      "    w1 = w1 / np.sum(w1)\n",
      "    # now resample -- start with an empty list \n",
      "    # and then repopulate\n",
      "    x2 = []\n",
      "    w2 = []\n",
      "    for i in range(m):\n",
      "        p = np.random.rand()\n",
      "        nj = int(m*w[i])\n",
      "\n",
      "        if p < m*w[i] - np.floor(m*w[i]):\n",
      "            nj = nj + 1\n",
      "\n",
      "        for k in range(nj):\n",
      "            x2.append(X[i])\n",
      "            w2.append(w1[i] / w[i])\n",
      "\n",
      "    return np.array(x2),np.array(w2),val,val1"
     ],
     "language": "python",
     "metadata": {},
     "outputs": [],
     "prompt_number": 11
    },
    {
     "cell_type": "code",
     "collapsed": false,
     "input": [
      "def multipleDMC(V, V1, initialWalkers, numSteps, eps):\n",
      "    import numpy as np\n",
      "    x = initialWalkers\n",
      "    w1 = np.ones(initialWalkers.size)\n",
      "    vals = np.zeros(numSteps)\n",
      "    vals1 = np.zeros(numSteps)\n",
      "    est = np.zeros(numSteps / 100)\n",
      "    est1 = np.zeros(numSteps / 100)\n",
      "    \n",
      "    E1 = 1.0/2\n",
      "    E = np.sqrt(1.1)/2\n",
      "    for i in range(numSteps):\n",
      "        x,w1,val,val1 = updateWalkers(x,V,V1,w1,eps)\n",
      "        vals[i] = val\n",
      "        vals1[i] = val1\n",
      "        if i % 100 == 50:\n",
      "            Est = -np.log(np.mean(vals[i/2:i])) / eps\n",
      "            Est1 = -np.log(np.mean(vals1[i/2:i])) / eps\n",
      "            est[(i-50)/100] = Est\n",
      "            est1[(i-50)/100] = Est1\n",
      "    return est, est1"
     ],
     "language": "python",
     "metadata": {},
     "outputs": [],
     "prompt_number": 24
    },
    {
     "cell_type": "code",
     "collapsed": false,
     "input": [
      "V = lambda x: x**2 * 1.1 / 2\n",
      "V1 = lambda x: x**2 / 2"
     ],
     "language": "python",
     "metadata": {},
     "outputs": [],
     "prompt_number": 13
    },
    {
     "cell_type": "code",
     "collapsed": false,
     "input": [
      "import numpy as np\n",
      "v,v1 = multipleDMC(V,V1,np.zeros(1000),10000,0.01)"
     ],
     "language": "python",
     "metadata": {},
     "outputs": [
      {
       "output_type": "stream",
       "stream": "stdout",
       "text": [
        "0.329502155317 0.321881892091 0.00762026322624\n",
        "0.0792657154144"
       ]
      },
      {
       "output_type": "stream",
       "stream": "stdout",
       "text": [
        " 0.0853297561717 0.00606404075731\n",
        "0.0234064442146"
       ]
      },
      {
       "output_type": "stream",
       "stream": "stdout",
       "text": [
        " 0.0190478061451 0.00435863806948\n",
        "0.0130770515726"
       ]
      },
      {
       "output_type": "stream",
       "stream": "stdout",
       "text": [
        " 0.0149185086394 0.00184145706685\n",
        "0.000498270814543"
       ]
      },
      {
       "output_type": "stream",
       "stream": "stdout",
       "text": [
        " 0.0018803094874 0.00237858030195\n",
        "0.00593618029369"
       ]
      },
      {
       "output_type": "stream",
       "stream": "stdout",
       "text": [
        " 0.00632559193695 0.000389411643261\n",
        "0.0116078712794"
       ]
      },
      {
       "output_type": "stream",
       "stream": "stdout",
       "text": [
        " 0.0120413865211 0.000433515241645\n",
        "0.0144451925435"
       ]
      },
      {
       "output_type": "stream",
       "stream": "stdout",
       "text": [
        " 0.0149394859094 0.000494293365833\n",
        "0.0151881446563"
       ]
      },
      {
       "output_type": "stream",
       "stream": "stdout",
       "text": [
        " 0.0144753794689 0.000712765187445\n",
        "0.0130706143247"
       ]
      },
      {
       "output_type": "stream",
       "stream": "stdout",
       "text": [
        " 0.0116394886909 0.00143112563386\n",
        "0.00358877427187"
       ]
      },
      {
       "output_type": "stream",
       "stream": "stdout",
       "text": [
        " 0.00247098891237 0.0011177853595\n",
        "0.000580403666849"
       ]
      },
      {
       "output_type": "stream",
       "stream": "stdout",
       "text": [
        " 0.00187898035545 0.0012985766886\n",
        "0.00231141281006"
       ]
      },
      {
       "output_type": "stream",
       "stream": "stdout",
       "text": [
        " 0.00292390848593 0.000612495675871\n",
        "0.00275626844123"
       ]
      },
      {
       "output_type": "stream",
       "stream": "stdout",
       "text": [
        " 0.00452179772161 0.00176552928038\n",
        "0.00217497479145"
       ]
      },
      {
       "output_type": "stream",
       "stream": "stdout",
       "text": [
        " 0.00303834373585 0.000863368944398\n",
        "0.00392865979828"
       ]
      },
      {
       "output_type": "stream",
       "stream": "stdout",
       "text": [
        " 0.0044960725144 0.000567412716117\n",
        "0.00243510768306"
       ]
      },
      {
       "output_type": "stream",
       "stream": "stdout",
       "text": [
        " 0.00311020400081 0.00067509631775\n",
        "0.00218296218253"
       ]
      },
      {
       "output_type": "stream",
       "stream": "stdout",
       "text": [
        " 0.00293216055639 0.000749198373853\n",
        "0.00200400787507"
       ]
      },
      {
       "output_type": "stream",
       "stream": "stdout",
       "text": [
        " 0.00202498266253 2.0974787468e-05\n",
        "0.00514310378959"
       ]
      },
      {
       "output_type": "stream",
       "stream": "stdout",
       "text": [
        " 0.00505191499242 9.11887971735e-05\n",
        "0.00280340346006"
       ]
      },
      {
       "output_type": "stream",
       "stream": "stdout",
       "text": [
        " 0.00343481446667 0.000631411006608\n",
        "0.00172842759841"
       ]
      },
      {
       "output_type": "stream",
       "stream": "stdout",
       "text": [
        " 0.00194525201013 0.000216824411725\n",
        "0.00162308596248"
       ]
      },
      {
       "output_type": "stream",
       "stream": "stdout",
       "text": [
        " 0.0011213956148 0.000501690347683\n",
        "0.00174641266347"
       ]
      },
      {
       "output_type": "stream",
       "stream": "stdout",
       "text": [
        " 0.00139515344712 0.000351259216347\n",
        "0.00200277195043"
       ]
      },
      {
       "output_type": "stream",
       "stream": "stdout",
       "text": [
        " 0.00224119463882 0.000238422688392\n",
        "0.00122987325353"
       ]
      },
      {
       "output_type": "stream",
       "stream": "stdout",
       "text": [
        " 0.00129131705964 6.14438061173e-05\n",
        "0.00186108097345"
       ]
      },
      {
       "output_type": "stream",
       "stream": "stdout",
       "text": [
        " 0.00121697249387 0.000644108479575\n",
        "0.00559149690906"
       ]
      },
      {
       "output_type": "stream",
       "stream": "stdout",
       "text": [
        " 0.00517072874113 0.000420768167921\n",
        "0.00557240995997"
       ]
      },
      {
       "output_type": "stream",
       "stream": "stdout",
       "text": [
        " 0.00501002770972 0.000562382250244\n",
        "0.00382846913525"
       ]
      },
      {
       "output_type": "stream",
       "stream": "stdout",
       "text": [
        " 0.00312939453652 0.000699074598732\n",
        "0.00345822431671"
       ]
      },
      {
       "output_type": "stream",
       "stream": "stdout",
       "text": [
        " 0.00312266103487 0.000335563281843\n",
        "0.00395321203836"
       ]
      },
      {
       "output_type": "stream",
       "stream": "stdout",
       "text": [
        " 0.00350797737274 0.000445234665622\n",
        "0.00628534549805"
       ]
      },
      {
       "output_type": "stream",
       "stream": "stdout",
       "text": [
        " 0.00575033755248 0.000535007945573\n",
        "0.00678932989443"
       ]
      },
      {
       "output_type": "stream",
       "stream": "stdout",
       "text": [
        " 0.00606592116939 0.00072340872504\n",
        "0.00778086240523"
       ]
      },
      {
       "output_type": "stream",
       "stream": "stdout",
       "text": [
        " 0.00667204350144 0.00110881890379\n",
        "0.00714055868797"
       ]
      },
      {
       "output_type": "stream",
       "stream": "stdout",
       "text": [
        " 0.0066618546958 0.000478703992165\n",
        "0.00613845920374"
       ]
      },
      {
       "output_type": "stream",
       "stream": "stdout",
       "text": [
        " 0.00517722136617 0.00096123783757\n",
        "0.00515602662871"
       ]
      },
      {
       "output_type": "stream",
       "stream": "stdout",
       "text": [
        " 0.00419358630824 0.000962440320471\n",
        "0.0025344026546"
       ]
      },
      {
       "output_type": "stream",
       "stream": "stdout",
       "text": [
        " 0.00170272058527 0.000831682069326\n",
        "0.00160155225992"
       ]
      },
      {
       "output_type": "stream",
       "stream": "stdout",
       "text": [
        " 0.000453162565591 0.00114838969433\n",
        "0.000915704108266"
       ]
      },
      {
       "output_type": "stream",
       "stream": "stdout",
       "text": [
        " 0.000479953192648 0.00139565730091\n",
        "0.000834920332512"
       ]
      },
      {
       "output_type": "stream",
       "stream": "stdout",
       "text": [
        " 0.000904334163573 0.00173925449608\n",
        "0.0010159709656"
       ]
      },
      {
       "output_type": "stream",
       "stream": "stdout",
       "text": [
        " 0.000694529619115 0.00171050058471\n",
        "0.00116164197067"
       ]
      },
      {
       "output_type": "stream",
       "stream": "stdout",
       "text": [
        " 6.88207683027e-05 0.00123046273897\n",
        "0.000766387866295"
       ]
      },
      {
       "output_type": "stream",
       "stream": "stdout",
       "text": [
        " 0.000528116015359 0.00129450388165\n",
        "0.00112886740166"
       ]
      },
      {
       "output_type": "stream",
       "stream": "stdout",
       "text": [
        " 0.000273380995568 0.00140224839723\n",
        "0.00133092170943"
       ]
      },
      {
       "output_type": "stream",
       "stream": "stdout",
       "text": [
        " 0.000283983571056 0.00104693813838\n",
        "0.00149976448924"
       ]
      },
      {
       "output_type": "stream",
       "stream": "stdout",
       "text": [
        " 0.000448261208807 0.00105150328043\n",
        "0.00236832183234"
       ]
      },
      {
       "output_type": "stream",
       "stream": "stdout",
       "text": [
        " 0.00105533695224 0.00131298488009\n",
        "0.00218227355602"
       ]
      },
      {
       "output_type": "stream",
       "stream": "stdout",
       "text": [
        " 0.000649830417396 0.00153244313863\n",
        "0.000809690546498"
       ]
      },
      {
       "output_type": "stream",
       "stream": "stdout",
       "text": [
        " 0.000980825283407 0.00179051582991\n",
        "0.000670117271904"
       ]
      },
      {
       "output_type": "stream",
       "stream": "stdout",
       "text": [
        " 0.00248663833298 0.00181652106107\n",
        "0.00173714763786"
       ]
      },
      {
       "output_type": "stream",
       "stream": "stdout",
       "text": [
        " 0.00339010589148 0.00165295825363\n",
        "0.00333640776034"
       ]
      },
      {
       "output_type": "stream",
       "stream": "stdout",
       "text": [
        " 0.0050424751969 0.00170606743656\n",
        "0.00435717820395"
       ]
      },
      {
       "output_type": "stream",
       "stream": "stdout",
       "text": [
        " 0.00595150054364 0.00159432233968\n",
        "0.00430880265116"
       ]
      },
      {
       "output_type": "stream",
       "stream": "stdout",
       "text": [
        " 0.00581166494797 0.00150286229681\n",
        "0.00335250884899"
       ]
      },
      {
       "output_type": "stream",
       "stream": "stdout",
       "text": [
        " 0.00505943763497 0.00170692878598\n",
        "0.0031753015812"
       ]
      },
      {
       "output_type": "stream",
       "stream": "stdout",
       "text": [
        " 0.0049681439625 0.0017928423813\n",
        "0.00262738847933"
       ]
      },
      {
       "output_type": "stream",
       "stream": "stdout",
       "text": [
        " 0.00414260330915 0.00151521482981\n",
        "0.0023445550837"
       ]
      },
      {
       "output_type": "stream",
       "stream": "stdout",
       "text": [
        " 0.00357842869078 0.00123387360708\n",
        "0.00288682687124"
       ]
      },
      {
       "output_type": "stream",
       "stream": "stdout",
       "text": [
        " 0.00452118907977 0.00163436220853\n",
        "0.00199561547645"
       ]
      },
      {
       "output_type": "stream",
       "stream": "stdout",
       "text": [
        " 0.00370653541557 0.00171091993912\n",
        "0.00225578510265"
       ]
      },
      {
       "output_type": "stream",
       "stream": "stdout",
       "text": [
        " 0.00414546935529 0.00188968425265\n",
        "0.00290950061584"
       ]
      },
      {
       "output_type": "stream",
       "stream": "stdout",
       "text": [
        " 0.00425179945334 0.00134229883749\n",
        "0.00363139804538"
       ]
      },
      {
       "output_type": "stream",
       "stream": "stdout",
       "text": [
        " 0.00506860947513 0.00143721142975\n",
        "0.00378709287229"
       ]
      },
      {
       "output_type": "stream",
       "stream": "stdout",
       "text": [
        " 0.00509468607291 0.00130759320062\n",
        "0.00482636097577"
       ]
      },
      {
       "output_type": "stream",
       "stream": "stdout",
       "text": [
        " 0.00588376311589 0.00105740214012\n",
        "0.00495698618664"
       ]
      },
      {
       "output_type": "stream",
       "stream": "stdout",
       "text": [
        " 0.00623696800532 0.00127998181867\n",
        "0.00559508273693"
       ]
      },
      {
       "output_type": "stream",
       "stream": "stdout",
       "text": [
        " 0.0065826268565 0.000987544119571\n",
        "0.0063796477284"
       ]
      },
      {
       "output_type": "stream",
       "stream": "stdout",
       "text": [
        " 0.00770531496336 0.00132566723496\n",
        "0.00711517598093"
       ]
      },
      {
       "output_type": "stream",
       "stream": "stdout",
       "text": [
        " 0.00866634048404 0.00155116450311\n",
        "0.0068038217771"
       ]
      },
      {
       "output_type": "stream",
       "stream": "stdout",
       "text": [
        " 0.00829630139844 0.00149247962134\n",
        "0.00651553658436"
       ]
      },
      {
       "output_type": "stream",
       "stream": "stdout",
       "text": [
        " 0.00790830436169 0.00139276777732\n",
        "0.00604583734967"
       ]
      },
      {
       "output_type": "stream",
       "stream": "stdout",
       "text": [
        " 0.00760689915418 0.00156106180451\n",
        "0.00564989685511"
       ]
      },
      {
       "output_type": "stream",
       "stream": "stdout",
       "text": [
        " 0.00702938512144 0.00137948826633\n",
        "0.00515380261086"
       ]
      },
      {
       "output_type": "stream",
       "stream": "stdout",
       "text": [
        " 0.00662660745909 0.00147280484822\n",
        "0.0041111160301"
       ]
      },
      {
       "output_type": "stream",
       "stream": "stdout",
       "text": [
        " 0.00566941255114 0.00155829652104\n",
        "0.00427533755364"
       ]
      },
      {
       "output_type": "stream",
       "stream": "stdout",
       "text": [
        " 0.00572856440129 0.00145322684765\n",
        "0.00494365289248"
       ]
      },
      {
       "output_type": "stream",
       "stream": "stdout",
       "text": [
        " 0.00636214679041 0.00141849389793\n",
        "0.00466793090369"
       ]
      },
      {
       "output_type": "stream",
       "stream": "stdout",
       "text": [
        " 0.0060306416784 0.00136271077471\n",
        "0.00477381115789"
       ]
      },
      {
       "output_type": "stream",
       "stream": "stdout",
       "text": [
        " 0.00628559745201 0.00151178629413\n",
        "0.00569656451226"
       ]
      },
      {
       "output_type": "stream",
       "stream": "stdout",
       "text": [
        " 0.00696903773907 0.00127247322681\n",
        "0.00474423928934"
       ]
      },
      {
       "output_type": "stream",
       "stream": "stdout",
       "text": [
        " 0.00591208067352 0.00116784138417\n",
        "0.00400518533188"
       ]
      },
      {
       "output_type": "stream",
       "stream": "stdout",
       "text": [
        " 0.00539268362635 0.00138749829447\n",
        "0.00390130731956"
       ]
      },
      {
       "output_type": "stream",
       "stream": "stdout",
       "text": [
        " 0.0049111738972 0.00100986657764\n",
        "0.00391452295156"
       ]
      },
      {
       "output_type": "stream",
       "stream": "stdout",
       "text": [
        " 0.00498264947192 0.00106812652036\n",
        "0.00341547453405"
       ]
      },
      {
       "output_type": "stream",
       "stream": "stdout",
       "text": [
        " 0.004373108076 0.000957633541943\n",
        "0.00323543245938"
       ]
      },
      {
       "output_type": "stream",
       "stream": "stdout",
       "text": [
        " 0.00405557359433 0.000820141134944\n",
        "0.00439636746053"
       ]
      },
      {
       "output_type": "stream",
       "stream": "stdout",
       "text": [
        " 0.00537440698802 0.000978039527492\n",
        "0.00489018145685"
       ]
      },
      {
       "output_type": "stream",
       "stream": "stdout",
       "text": [
        " 0.00585569803452 0.000965516577674\n",
        "0.00485950697757"
       ]
      },
      {
       "output_type": "stream",
       "stream": "stdout",
       "text": [
        " 0.00580361052349 0.000944103545924\n",
        "0.00508987566962"
       ]
      },
      {
       "output_type": "stream",
       "stream": "stdout",
       "text": [
        " 0.00597356668529 0.000883691015674\n",
        "0.00491871423217"
       ]
      },
      {
       "output_type": "stream",
       "stream": "stdout",
       "text": [
        " 0.00527457636122 0.000355862129052\n",
        "0.00487299203187"
       ]
      },
      {
       "output_type": "stream",
       "stream": "stdout",
       "text": [
        " 0.00549175838425 0.000618766352377\n",
        "0.00439282558362"
       ]
      },
      {
       "output_type": "stream",
       "stream": "stdout",
       "text": [
        " 0.00488861498971 0.000495789406094\n",
        "0.00473344577905"
       ]
      },
      {
       "output_type": "stream",
       "stream": "stdout",
       "text": [
        " 0.00538592699516 0.000652481216109\n",
        "0.00469643856114"
       ]
      },
      {
       "output_type": "stream",
       "stream": "stdout",
       "text": [
        " 0.00518497688681 0.00048853832567\n",
        "0.00438344704101"
       ]
      },
      {
       "output_type": "stream",
       "stream": "stdout",
       "text": [
        " 0.00476539643277 0.000381949391763\n",
        "0.00336095755149"
       ]
      },
      {
       "output_type": "stream",
       "stream": "stdout",
       "text": [
        " 0.00382630188557 0.000465344334079\n",
        "0.00232334760272"
       ]
      },
      {
       "output_type": "stream",
       "stream": "stdout",
       "text": [
        " 0.00237416382433 5.08162216106e-05\n"
       ]
      }
     ],
     "prompt_number": 25
    },
    {
     "cell_type": "code",
     "collapsed": false,
     "input": [
      "from matplotlib import pyplot as plt\n",
      "plt.plot(v[5:] - np.sqrt(1.1)/2)\n",
      "plt.plot(v1[5:] - 1.0/2)"
     ],
     "language": "python",
     "metadata": {},
     "outputs": [
      {
       "metadata": {},
       "output_type": "pyout",
       "prompt_number": 30,
       "text": [
        "[<matplotlib.lines.Line2D at 0x7ff554baa1d0>]"
       ]
      },
      {
       "metadata": {},
       "output_type": "display_data",
       "png": "[encoded data removed]",
       "text": [
        "<matplotlib.figure.Figure at 0x7ff554d2fed0>"
       ]
      }
     ],
     "prompt_number": 30
    },
    {
     "cell_type": "code",
     "collapsed": false,
     "input": [
      "plt.plot(v[5:] - v1[5:] - (np.sqrt(1.1)/2 - 1.0/2))"
     ],
     "language": "python",
     "metadata": {},
     "outputs": [
      {
       "metadata": {},
       "output_type": "pyout",
       "prompt_number": 31,
       "text": [
        "[<matplotlib.lines.Line2D at 0x7ff554a45d50>]"
       ]
      },
      {
       "metadata": {},
       "output_type": "display_data",
       "png": "[encoded data removed]",
       "text": [
        "<matplotlib.figure.Figure at 0x7ff554b7e050>"
       ]
      }
     ],
     "prompt_number": 31
    }
   ],
   "metadata": {}
  }
 ]
}